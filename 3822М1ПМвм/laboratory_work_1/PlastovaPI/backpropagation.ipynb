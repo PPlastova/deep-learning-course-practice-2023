{
 "cells": [
  {
   "cell_type": "markdown",
   "metadata": {},
   "source": [
    "## Подготовка данных"
   ]
  },
  {
   "cell_type": "markdown",
   "metadata": {},
   "source": [
    "### Загрузка датасета"
   ]
  },
  {
   "cell_type": "code",
   "execution_count": 16,
   "metadata": {},
   "outputs": [],
   "source": [
    "from sklearn.datasets import fetch_openml\n",
    "mnist_x, mnist_y = fetch_openml('mnist_784', return_X_y=True, as_frame=True, parser = 'pandas')"
   ]
  },
  {
   "cell_type": "code",
   "execution_count": 17,
   "metadata": {},
   "outputs": [
    {
     "name": "stdout",
     "output_type": "stream",
     "text": [
      "X shape: (70000, 784) , Y shape: (70000,)\n"
     ]
    }
   ],
   "source": [
    "print(\"X shape:\", mnist_x.shape, \", Y shape:\", mnist_y.shape)"
   ]
  },
  {
   "cell_type": "code",
   "execution_count": 22,
   "metadata": {},
   "outputs": [
    {
     "name": "stdout",
     "output_type": "stream",
     "text": [
      "Train: x shape = (60000, 784), y shape = (60000,) \n",
      " Test: x shape = (10000, 784), y shape = (10000,)\n"
     ]
    }
   ],
   "source": [
    "import numpy as np\n",
    "\n",
    "data_type = np.float32\n",
    "n_train = 60000 \n",
    "n_test = 10000\n",
    "\n",
    "train_x = np.ascontiguousarray(mnist_x.values[:n_train], dtype=data_type)\n",
    "train_y = np.ascontiguousarray(mnist_y.values[:n_train], dtype=int)\n",
    "test_x = np.ascontiguousarray(mnist_x.values[n_train:], dtype=data_type)\n",
    "test_y = np.ascontiguousarray(mnist_y.values[n_train:], dtype=int)\n",
    "\n",
    "assert test_x.shape[0] == n_test, \"Incorrect test_x shape\"\n",
    "assert test_y.shape[0] == n_test, \"Incorrect test_y shape\"\n",
    "\n",
    "print(f'Train: x shape = {train_x.shape}, y shape = {train_y.shape} \\n Test: x shape = {test_x.shape}, y shape = {test_y.shape}')"
   ]
  },
  {
   "cell_type": "markdown",
   "metadata": {},
   "source": [
    "### Проверка данных"
   ]
  },
  {
   "cell_type": "code",
   "execution_count": 23,
   "metadata": {},
   "outputs": [
    {
     "data": {
      "image/png": "[encoded data removed]",
      "text/plain": [
       "<Figure size 640x480 with 1 Axes>"
      ]
     },
     "metadata": {},
     "output_type": "display_data"
    },
    {
     "name": "stdout",
     "output_type": "stream",
     "text": [
      "Class:  8\n",
      "[  0.   0.   0.   0.   0.   0.   0.   0.   0.   0.   0.   0.   0.   0.\n",
      "   0.   0.   0.   0.   0.   0.   0.   0.   0.   0.   0.   0.   0.   0.\n",
      "   0.   0.   0.   0.   0.   0.   0.   0.   0.   0.   0.   0.   0.   0.\n",
      "   0.   0.   0.   0.   0.   0.   0.   0.   0.   0.   0.   0.   0.   0.\n",
      "   0.   0.   0.   0.   0.   0.   0.   0.   0.   0.   0.   0.   0.   0.\n",
      "   0.   0.   0.   0.   0.   0.   0.   0.   0.   0.   0.   0.   0.   0.\n",
      "   0.   0.   0.   0.   0.   0.   0.   0.   0.   0.   0.   0.   0.   0.\n",
      "   0.   0.   0.   0.   0.   0.   0.   0.   0.   0.   0.   0.   0.   0.\n",
      "   0.   0.   0.   0.   0.   0.   0.   0.   0.   0.   0.   0.   0.   0.\n",
      "   0.   0.   0.   0.   0.   0.   0.   0.   0.   0.   0.   0.   0.   0.\n",
      "   0.   0.   0.   0.   0.   0.   0.   0.   0.   0.   0.   0.   0.   0.\n",
      "  10.  59. 156. 239. 254. 254. 254. 255. 246. 109.   0.   0.   0.   0.\n",
      "   0.   0.   0.   0.   0.   0.   0.   0.   0.   0.   0.   0.  17. 147.\n",
      " 220. 253. 254. 253. 253. 253. 245. 254. 253. 129.   0.   0.   0.   0.\n",
      "   0.   0.   0.   0.   0.   0.   0.   0.   0.   0.  31. 138. 211. 253.\n",
      " 253. 253. 254. 216. 144.  78.  48. 101.  92.  24.   0.   0.   0.   0.\n",
      "   0.   0.   0.   0.   0.   0.   0.   0.   0.  22. 181. 254. 253. 253.\n",
      " 216. 138.  57.  10.   0.   0.   0.   0.  31.   0.   0.   0.   0.   0.\n",
      "   0.   0.   0.   0.   0.   0.   0.   0.   0. 115. 253. 254. 245. 126.\n",
      "   5.   0.   0.   0.   0.   0.   0. 121. 239. 135.   0.   0.   0.   0.\n",
      "   0.   0.   0.   0.   0.   0.   0.   0.   0. 115. 254. 255. 246.  71.\n",
      "   0.   0.   0.   0.   0.  85. 254. 255. 249.  60.   0.   0.   0.   0.\n",
      "   0.   0.   0.   0.   0.   0.   0.   0.   0.   6. 114. 254. 253. 241.\n",
      "  69.   0.   0.  10. 118. 250. 253. 249.  65.   0.   0.   0.   0.   0.\n",
      "   0.   0.   0.   0.   0.   0.   0.   0.   0.   0.   0. 119. 253. 253.\n",
      " 241. 101. 138. 211. 253. 253. 222.  60.   0.   0.   0.   0.   0.   0.\n",
      "   0.   0.   0.   0.   0.   0.   0.   0.   0.   0.   0.   5. 149. 253.\n",
      " 253. 253. 254. 253. 240. 198.  34.   0.   0.   0.   0.   0.   0.   0.\n",
      "   0.   0.   0.   0.   0.   0.   0.   0.   0.   0.   0.   0.  58. 253.\n",
      " 253. 253. 254. 207.  70.   0.   0.   0.   0.   0.   0.   0.   0.   0.\n",
      "   0.   0.   0.   0.   0.   0.   0.   0.   0.   0.   0.  59. 239. 254.\n",
      " 254. 254. 255.  39.   0.   0.   0.   0.   0.   0.   0.   0.   0.   0.\n",
      "   0.   0.   0.   0.   0.   0.   0.   0.   0.   4.  95. 239. 253. 247.\n",
      " 236. 253. 254. 122.   0.   0.   0.   0.   0.   0.   0.   0.   0.   0.\n",
      "   0.   0.   0.   0.   0.   0.   0.   0.   0. 107. 253. 254. 247.  84.\n",
      "  40. 253. 254. 135.   0.   0.   0.   0.   0.   0.   0.   0.   0.   0.\n",
      "   0.   0.   0.   0.   0.   0.   0.   0.  58. 237. 253. 207.  32.   0.\n",
      "  24. 230. 254. 135.   0.   0.   0.   0.   0.   0.   0.   0.   0.   0.\n",
      "   0.   0.   0.   0.   0.   0.   0.   0. 175. 253. 253.  60.   0.   0.\n",
      " 152. 253. 254. 135.   0.   0.   0.   0.   0.   0.   0.   0.   0.   0.\n",
      "   0.   0.   0.   0.   0.   0.   0.  20. 254. 254. 155.   0.   0.  49.\n",
      " 246. 254. 241.  68.   0.   0.   0.   0.   0.   0.   0.   0.   0.   0.\n",
      "   0.   0.   0.   0.   0.   0.   0.  20. 253. 253. 162.  13.  73. 226.\n",
      " 253. 253. 105.   0.   0.   0.   0.   0.   0.   0.   0.   0.   0.   0.\n",
      "   0.   0.   0.   0.   0.   0.   0.  14. 229. 253. 253. 224. 253. 253.\n",
      " 253. 185.   0.   0.   0.   0.   0.   0.   0.   0.   0.   0.   0.   0.\n",
      "   0.   0.   0.   0.   0.   0.   0.   0.  81. 227. 253. 254. 253. 253.\n",
      " 201.  34.   0.   0.   0.   0.   0.   0.   0.   0.   0.   0.   0.   0.\n",
      "   0.   0.   0.   0.   0.   0.   0.   0.   0.  47. 155. 216. 245. 126.\n",
      "   5.   0.   0.   0.   0.   0.   0.   0.   0.   0.   0.   0.   0.   0.\n",
      "   0.   0.   0.   0.   0.   0.   0.   0.   0.   0.   0.   0.   0.   0.\n",
      "   0.   0.   0.   0.   0.   0.   0.   0.   0.   0.   0.   0.   0.   0.\n",
      "   0.   0.   0.   0.   0.   0.   0.   0.   0.   0.   0.   0.   0.   0.\n",
      "   0.   0.   0.   0.   0.   0.   0.   0.   0.   0.   0.   0.   0.   0.\n",
      "   0.   0.   0.   0.   0.   0.   0.   0.   0.   0.   0.   0.   0.   0.\n",
      "   0.   0.   0.   0.   0.   0.   0.   0.   0.   0.   0.   0.   0.   0.]\n"
     ]
    },
    {
     "data": {
      "image/png": "[encoded data removed]",
      "text/plain": [
       "<Figure size 640x480 with 1 Axes>"
      ]
     },
     "metadata": {},
     "output_type": "display_data"
    },
    {
     "name": "stdout",
     "output_type": "stream",
     "text": [
      "Class:  4\n",
      "[  0.   0.   0.   0.   0.   0.   0.   0.   0.   0.   0.   0.   0.   0.\n",
      "   0.   0.   0.   0.   0.   0.   0.   0.   0.   0.   0.   0.   0.   0.\n",
      "   0.   0.   0.   0.   0.   0.   0.   0.   0.   0.   0.   0.   0.   0.\n",
      "   0.   0.   0.   0.   0.   0.   0.   0.   0.   0.   0.   0.   0.   0.\n",
      "   0.   0.   0.   0.   0.   0.   0.   0.   0.   0.   0.   0.   0.   0.\n",
      "   0.   0.   0.   0.   0.   0.   0.   0.   0.   0.   0.   0.   0.   0.\n",
      "   0.   0.   0.   0.   0.   0.   0.   0.   0.   0.   0.   0.   0.   0.\n",
      "   0.   0.   0.   0.   0.   0.   0.   0.   0.   0.   0.   0.   0.   0.\n",
      "   0.   0.   0.   0.   0.   0.   0.   0.   0.   0.   0.   0.   0.   0.\n",
      "   0.   0.   0.   0.   0.   0.   0.   0.   0.   0.   0.   0.   0.   0.\n",
      "   0.   0.   0.   0.   0.   0.   0.   0.   0.   0.   0.   0.   0.   0.\n",
      "   0.   0.   0.   0.   0.   0.   0.   0.   0.   0.   0.   0.   0.   0.\n",
      "   0.   0.   0.   0.   0.   0.   0.   0. 121. 255. 165.   0.   0.   0.\n",
      "   0.   0.   0.  70. 254. 179.   0.   0.   0.   0.   0.   0.   0.   0.\n",
      "   0.   0.   0.   0.   0.   0.   0.   0. 131. 254. 153.   0.   0.   0.\n",
      "   0.   0.   0. 106. 254. 249.  50.   0.   0.   0.   0.   0.   0.   0.\n",
      "   0.   0.   0.   0.   0.   0.   0.   0. 216. 254. 105.   0.   0.   0.\n",
      "   0.   0.   0. 140. 254. 240.  37.   0.   0.   0.   0.   0.   0.   0.\n",
      "   0.   0.   0.   0.   0.   0.   0.  14. 225. 254.  84.   0.   0.   0.\n",
      "   0.   0.  85. 233. 254. 215.   0.   0.   0.   0.   0.   0.   0.   0.\n",
      "   0.   0.   0.   0.   0.   0.   0.  58. 254. 254.  46.   0.   0.   0.\n",
      "   0.   8. 186. 254. 254. 206.   0.   0.   0.   0.   0.   0.   0.   0.\n",
      "   0.   0.   0.   0.   0.   0.   0.  58. 254. 254.   9.   0.   0.   0.\n",
      "   0. 146. 254. 254. 254. 120.   0.   0.   0.   0.   0.   0.   0.   0.\n",
      "   0.   0.   0.   0.   0.   0.   0. 150. 254. 254.   9.   0.   0.   0.\n",
      " 127. 251. 254. 254. 239.  22.   0.   0.   0.   0.   0.   0.   0.   0.\n",
      "   0.   0.   0.   0.   0.   0.   0. 153. 254. 254.   9.   0.   0.  92.\n",
      " 246. 254. 254. 254. 181.   0.   0.   0.   0.   0.   0.   0.   0.   0.\n",
      "   0.   0.   0.   0.   0.   0.   0. 105. 241. 254.  40.   0.  27. 244.\n",
      " 254. 254. 254. 254. 150.   0.   0.   0.   0.   0.   0.   0.   0.   0.\n",
      "   0.   0.   0.   0.   0.   0.   0.   0. 161. 254. 169. 100. 244. 254.\n",
      " 254. 254. 254. 252.  70.   0.   0.   0.   0.   0.   0.   0.   0.   0.\n",
      "   0.   0.   0.   0.   0.   0.   0.   0.  68. 176. 253. 254. 254. 245.\n",
      " 167. 254. 254. 202.   0.   0.   0.   0.   0.   0.   0.   0.   0.   0.\n",
      "   0.   0.   0.   0.   0.   0.   0.   0.   0.   0.  99. 177. 146.  35.\n",
      " 110. 254. 254. 148.   0.   0.   0.   0.   0.   0.   0.   0.   0.   0.\n",
      "   0.   0.   0.   0.   0.   0.   0.   0.   0.   0.   0.   0.   0.   0.\n",
      " 206. 254. 254. 131.   0.   0.   0.   0.   0.   0.   0.   0.   0.   0.\n",
      "   0.   0.   0.   0.   0.   0.   0.   0.   0.   0.   0.   0.   0.   0.\n",
      " 130. 254. 219.  11.   0.   0.   0.   0.   0.   0.   0.   0.   0.   0.\n",
      "   0.   0.   0.   0.   0.   0.   0.   0.   0.   0.   0.   0.   0.   0.\n",
      " 174. 254. 210.   0.   0.   0.   0.   0.   0.   0.   0.   0.   0.   0.\n",
      "   0.   0.   0.   0.   0.   0.   0.   0.   0.   0.   0.   0.   0.   0.\n",
      " 155. 254. 124.   0.   0.   0.   0.   0.   0.   0.   0.   0.   0.   0.\n",
      "   0.   0.   0.   0.   0.   0.   0.   0.   0.   0.   0.   0.   0.   0.\n",
      " 185. 254. 115.   0.   0.   0.   0.   0.   0.   0.   0.   0.   0.   0.\n",
      "   0.   0.   0.   0.   0.   0.   0.   0.   0.   0.   0.   0.   0.   0.\n",
      " 206. 254. 115.   0.   0.   0.   0.   0.   0.   0.   0.   0.   0.   0.\n",
      "   0.   0.   0.   0.   0.   0.   0.   0.   0.   0.   0.   0.   0.   0.\n",
      " 194. 254. 115.   0.   0.   0.   0.   0.   0.   0.   0.   0.   0.   0.\n",
      "   0.   0.   0.   0.   0.   0.   0.   0.   0.   0.   0.   0.   0.   0.\n",
      "  27. 192. 115.   0.   0.   0.   0.   0.   0.   0.   0.   0.   0.   0.\n",
      "   0.   0.   0.   0.   0.   0.   0.   0.   0.   0.   0.   0.   0.   0.\n",
      "   0.   0.   0.   0.   0.   0.   0.   0.   0.   0.   0.   0.   0.   0.\n",
      "   0.   0.   0.   0.   0.   0.   0.   0.   0.   0.   0.   0.   0.   0.\n",
      "   0.   0.   0.   0.   0.   0.   0.   0.   0.   0.   0.   0.   0.   0.]\n"
     ]
    }
   ],
   "source": [
    "import matplotlib.pyplot as plt\n",
    "# Цифра из тренировочной выборки\n",
    "id = 777\n",
    "plt.imshow(np.reshape(train_x[id], (-1,28)), cmap = 'gray')\n",
    "plt.show()\n",
    "print(\"Class: \", train_y[id])\n",
    "print(train_x[id])\n",
    "\n",
    "# Цифра из тестовой выборки\n",
    "id = 42\n",
    "plt.imshow(np.reshape(test_x[id], (-1,28)), cmap = 'gray')\n",
    "plt.show()\n",
    "print(\"Class: \", test_y[id])\n",
    "print(test_x[id])"
   ]
  },
  {
   "cell_type": "markdown",
   "metadata": {},
   "source": [
    "### Предобработка данных"
   ]
  },
  {
   "cell_type": "code",
   "execution_count": 24,
   "metadata": {},
   "outputs": [],
   "source": [
    "from sklearn.preprocessing import MinMaxScaler\n",
    "# one-hot encoding меток, например 5 -> [0. 0. 0. 0. 0. 1. 0. 0. 0. 0.]\n",
    "n_classes = 10\n",
    "train_y = np.identity(n_classes)[train_y] \n",
    "test_y = np.identity(n_classes)[test_y]\n",
    "\n",
    "# Приводим значения x к диапазону от 0 до 1\n",
    "scaler = MinMaxScaler(feature_range=(0,1)).fit(train_x)\n",
    "train_x = scaler.transform(train_x)\n",
    "test_x = scaler.transform(test_x)"
   ]
  },
  {
   "cell_type": "markdown",
   "metadata": {},
   "source": [
    "## Построение архитектуры сети"
   ]
  },
  {
   "cell_type": "code",
   "execution_count": 27,
   "metadata": {},
   "outputs": [],
   "source": [
    "from time import time\n",
    "import logging\n",
    "import sys\n",
    "import time\n",
    "\n",
    "def get_accuracy(pred_u, true_y):\n",
    "        true_labels = np.argmax(true_y, axis=1)\n",
    "        predicted_labels = np.argmax(pred_u, axis=1)\n",
    "        true_predicted_labels = true_labels == predicted_labels\n",
    "        return true_predicted_labels.sum()/true_y.shape[0]\n",
    "\n",
    "class FCNN:\n",
    "    def __init__(self, input_layer_size, hidden_layer_size, output_layer_size):\n",
    "        self.input_layer_size = input_layer_size\n",
    "        self.hidden_layer_size = hidden_layer_size\n",
    "        self.output_layer_size = output_layer_size\n",
    "        \n",
    "        self.weights = {\"input_hidden\":np.sqrt(5 / (hidden_layer_size + input_layer_size)) * np.random.randn(input_layer_size, hidden_layer_size), \n",
    "                        \"hidden_output\": np.sqrt(5 / (hidden_layer_size + input_layer_size)) * np.random.randn(hidden_layer_size, output_layer_size)} \n",
    "\n",
    "        self.biases = {\"hidden\": np.zeros(hidden_layer_size), \"output\": np.zeros(output_layer_size)}\n",
    "        self.hidden_layer = {\"signal\": np.zeros(hidden_layer_size), \"activation\": np.zeros(hidden_layer_size)}\n",
    "        self.output_layer = {\"signal\": np.zeros(output_layer_size), \"activation\": np.zeros(output_layer_size)} \n",
    "        \n",
    "        self.weights_update = {\"input_hidden\": np.ndarray((input_layer_size, hidden_layer_size), np.float32), \n",
    "                               \"hidden_output\": np.ndarray((hidden_layer_size, output_layer_size), np.float32)}\n",
    "        self.biases_update = {\"hidden\": np.ndarray((1, hidden_layer_size), np.float32), \n",
    "                              \"output\": np.ndarray((1, output_layer_size), np.float32)}\n",
    "        \n",
    "        \n",
    "        self.delta_output = np.zeros(output_layer_size)\n",
    "        self.delta_hidden_act = np.zeros(hidden_layer_size)\n",
    "        self.delta_hidden =  np.zeros(hidden_layer_size) \n",
    "      \n",
    "    def relu(self, u):\n",
    "        return np.maximum(0, u)\n",
    "\n",
    "    def softmax(self, u):\n",
    "        exp_x = np.exp(u)\n",
    "        return exp_x / np.sum(exp_x, axis=1, keepdims=True)\n",
    "\n",
    "    def relu_der(self, u):\n",
    "        return np.where(u > 0, 1, 0)\n",
    "     \n",
    "    def forward(self, x):\n",
    "        self.hidden_layer[\"signal\"] = np.matmul(x, self.weights[\"input_hidden\"]) + self.biases[\"hidden\"]\n",
    "        self.hidden_layer[\"activation\"] = self.relu(self.hidden_layer[\"signal\"])\n",
    "        self.output_layer[\"signal\"] = np.matmul(self.hidden_layer[\"activation\"], self.weights[\"hidden_output\"]) + self.biases[\"output\"]\n",
    "        self.output_layer[\"activation\"] = self.softmax(self.output_layer[\"signal\"])    \n",
    "            \n",
    "    def backward(self, x, y, lr):\n",
    "        self.delta_output = self.output_layer[\"activation\"] - y  \n",
    "        self.weights_update[\"hidden_output\"] = np.matmul(self.hidden_layer[\"activation\"].T, self.delta_output)\n",
    "        self.biases_update [\"output\"] = np.sum(self.delta_output, axis=0, keepdims=True)\n",
    "        \n",
    "        self.delta_hidden = np.matmul(self.delta_output, self.weights[\"hidden_output\"].T) * self.relu_der(self.hidden_layer[\"signal\"]) \n",
    "        self.weights_update[\"input_hidden\"] = np.matmul(x.T, self.delta_hidden)\n",
    "        self.biases_update[\"hidden\"] = np.sum(self.delta_hidden, axis=0, keepdims=True)\n",
    "\n",
    "        self.weights[\"input_hidden\"] = self.weights[\"input_hidden\"] - lr / x.shape[0] * self.weights_update[\"input_hidden\"]\n",
    "        self.weights[\"hidden_output\"] = self.weights[\"hidden_output\"] - lr / x.shape[0] * self.weights_update[\"hidden_output\"]\n",
    "        \n",
    "        self.biases[\"hidden\"] = self.biases[\"hidden\"] - lr / x.shape[0] * self.biases_update[\"hidden\"] \n",
    "        self.biases[\"output\"] = self.biases[\"output\"] - lr / x.shape[0] * self.biases_update[\"output\"]\n",
    "\n",
    "    def make_prediction(self, x):   \n",
    "        self.forward(x)\n",
    "        return self.output_layer[\"activation\"]\n",
    "    \n",
    "    def train(self, x, y, batch_size, n_epoch, lr):\n",
    "        n_elements = x.shape[0]\n",
    "        n_batches = int(n_elements/batch_size)\n",
    "        training_time = []\n",
    "\n",
    "        for epoch in range(n_epoch):\n",
    "            start_epoch = time.perf_counter()\n",
    "            first_batch_el = 0\n",
    "            batch_id = 0\n",
    "            while (batch_id < n_batches + 1):\n",
    "                if (first_batch_el + batch_size < n_elements):\n",
    "                    last_batch_el = first_batch_el + batch_size\n",
    "                else:\n",
    "                    last_batch_el = n_elements\n",
    "                x_batch = x[first_batch_el : last_batch_el]\n",
    "                y_batch = y[first_batch_el : last_batch_el]\n",
    "\n",
    "                self.forward(x_batch)\n",
    "                self.backward(x_batch, y_batch, lr)\n",
    "                if (first_batch_el + batch_size <= n_elements):\n",
    "                    first_batch_el += batch_size\n",
    "                else:\n",
    "                    first_batch_el = last_batch_el + 1\n",
    "                batch_id+=1    \n",
    "            end_epoch = time.perf_counter()\n",
    "            training_time.append(end_epoch - start_epoch)\n",
    "            self.forward(x)\n",
    "            accuracy = get_accuracy(self.output_layer[\"activation\"], y)\n",
    "            print(f'Epoch #{epoch+1}: Time {training_time[epoch]:0.2f} sec, Train error {1-accuracy:0.5f}, Train accuracy {accuracy:0.5f}')\n",
    "        print(f\"Total training time: {sum(training_time):0.2f} sec \")\n",
    "    \n"
   ]
  },
  {
   "cell_type": "markdown",
   "metadata": {},
   "source": [
    "## Обучение сети"
   ]
  },
  {
   "cell_type": "markdown",
   "metadata": {},
   "source": [
    "### Создание модели"
   ]
  },
  {
   "cell_type": "code",
   "execution_count": 28,
   "metadata": {},
   "outputs": [],
   "source": [
    "input_layer_size = 28 * 28\n",
    "hidden_layer_size = 300\n",
    "output_layer_size = 10\n",
    "\n",
    "model = FCNN (input_layer_size,\n",
    "                  hidden_layer_size,\n",
    "                  output_layer_size)"
   ]
  },
  {
   "cell_type": "markdown",
   "metadata": {},
   "source": [
    "### Тренировка модели"
   ]
  },
  {
   "cell_type": "code",
   "execution_count": 32,
   "metadata": {},
   "outputs": [
    {
     "name": "stdout",
     "output_type": "stream",
     "text": [
      "Epoch #1: Time 3.18 sec, Train error 0.00368, Train accuracy 0.99632\n",
      "Epoch #2: Time 2.56 sec, Train error 0.00325, Train accuracy 0.99675\n",
      "Epoch #3: Time 2.62 sec, Train error 0.00292, Train accuracy 0.99708\n",
      "Epoch #4: Time 2.81 sec, Train error 0.00268, Train accuracy 0.99732\n",
      "Epoch #5: Time 7.02 sec, Train error 0.00222, Train accuracy 0.99778\n",
      "Epoch #6: Time 3.73 sec, Train error 0.00198, Train accuracy 0.99802\n",
      "Epoch #7: Time 7.82 sec, Train error 0.00162, Train accuracy 0.99838\n",
      "Epoch #8: Time 3.23 sec, Train error 0.00145, Train accuracy 0.99855\n",
      "Epoch #9: Time 6.82 sec, Train error 0.00127, Train accuracy 0.99873\n",
      "Epoch #10: Time 7.67 sec, Train error 0.00110, Train accuracy 0.99890\n",
      "Epoch #11: Time 2.89 sec, Train error 0.00090, Train accuracy 0.99910\n",
      "Epoch #12: Time 5.67 sec, Train error 0.00082, Train accuracy 0.99918\n",
      "Epoch #13: Time 2.81 sec, Train error 0.00073, Train accuracy 0.99927\n",
      "Epoch #14: Time 2.98 sec, Train error 0.00067, Train accuracy 0.99933\n",
      "Epoch #15: Time 5.29 sec, Train error 0.00065, Train accuracy 0.99935\n",
      "Epoch #16: Time 5.74 sec, Train error 0.00053, Train accuracy 0.99947\n",
      "Epoch #17: Time 2.83 sec, Train error 0.00050, Train accuracy 0.99950\n",
      "Epoch #18: Time 6.51 sec, Train error 0.00040, Train accuracy 0.99960\n",
      "Epoch #19: Time 3.06 sec, Train error 0.00035, Train accuracy 0.99965\n",
      "Epoch #20: Time 4.36 sec, Train error 0.00030, Train accuracy 0.99970\n",
      "Total training time: 89.60 sec \n"
     ]
    }
   ],
   "source": [
    "batch_size = 64\n",
    "n_epoch = 20\n",
    "lr = 0.1\n",
    "\n",
    "model.train(train_x, train_y, batch_size, n_epoch, lr)"
   ]
  },
  {
   "cell_type": "markdown",
   "metadata": {},
   "source": [
    "### Оценка точности на тестовой выборке"
   ]
  },
  {
   "cell_type": "code",
   "execution_count": 33,
   "metadata": {},
   "outputs": [
    {
     "name": "stdout",
     "output_type": "stream",
     "text": [
      "Test error: 0.01950 \n",
      "Test accuracy: 0.98050\n",
      "Test time: 0.10 sec\n"
     ]
    }
   ],
   "source": [
    "start_prediction = time.perf_counter()\n",
    "classification_result = model.make_prediction(test_x)\n",
    "end_prediction = time.perf_counter()\n",
    "accuracy = get_accuracy(classification_result, test_y)\n",
    "\n",
    "print(f'Test error: {1-accuracy:0.5f} \\nTest accuracy: {accuracy:0.5f}\\nTest time: {end_prediction-start_prediction:0.2f} sec')"
   ]
  },
  {
   "cell_type": "markdown",
   "metadata": {},
   "source": [
    "## Реализация модели средствами PyTorch"
   ]
  },
  {
   "cell_type": "code",
   "execution_count": 39,
   "metadata": {},
   "outputs": [],
   "source": [
    "import torch\n",
    "from torch import nn\n",
    "\n",
    "class pytorch_model(nn.Module):\n",
    "    def __init__(self, input_layer_size, hidden_layer_size, output_layer_size):\n",
    "        super().__init__()\n",
    "        self.linear1 = nn.Linear(input_layer_size, hidden_layer_size)\n",
    "        self.activation = nn.ReLU()\n",
    "        self.linear2 = nn.Linear(hidden_layer_size, output_layer_size)\n",
    "    def forward(self, x):\n",
    "        out = self.linear1(x)\n",
    "        out = self.activation(out)\n",
    "        out = self.linear2(out)\n",
    "        return out"
   ]
  },
  {
   "cell_type": "code",
   "execution_count": 40,
   "metadata": {},
   "outputs": [
    {
     "name": "stdout",
     "output_type": "stream",
     "text": [
      "pytorch_model(\n",
      "  (linear1): Linear(in_features=784, out_features=300, bias=True)\n",
      "  (activation): ReLU()\n",
      "  (linear2): Linear(in_features=300, out_features=10, bias=True)\n",
      ")\n"
     ]
    }
   ],
   "source": [
    "input_layer_size = 28 * 28\n",
    "hidden_layer_size = 300\n",
    "output_layer_size = 10\n",
    "\n",
    "torch_model = pytorch_model(input_layer_size, hidden_layer_size, output_layer_size)\n",
    "print(torch_model)"
   ]
  },
  {
   "cell_type": "code",
   "execution_count": 41,
   "metadata": {},
   "outputs": [
    {
     "name": "stdout",
     "output_type": "stream",
     "text": [
      "PyTorch model training\n",
      "Epoch #1: Time 37.47 sec, Train error 0.07678, Train accuracy 0.92322\n",
      "Epoch #2: Time 33.54 sec, Train error 0.05317, Train accuracy 0.94683\n",
      "Epoch #3: Time 35.74 sec, Train error 0.04077, Train accuracy 0.95923\n",
      "Epoch #4: Time 32.31 sec, Train error 0.03282, Train accuracy 0.96718\n",
      "Epoch #5: Time 30.45 sec, Train error 0.02797, Train accuracy 0.97203\n",
      "Epoch #6: Time 33.79 sec, Train error 0.02440, Train accuracy 0.97560\n",
      "Epoch #7: Time 27.77 sec, Train error 0.02095, Train accuracy 0.97905\n",
      "Epoch #8: Time 33.36 sec, Train error 0.01815, Train accuracy 0.98185\n",
      "Epoch #9: Time 28.08 sec, Train error 0.01590, Train accuracy 0.98410\n",
      "Epoch #10: Time 26.88 sec, Train error 0.01423, Train accuracy 0.98577\n",
      "Epoch #11: Time 36.14 sec, Train error 0.01263, Train accuracy 0.98737\n",
      "Epoch #12: Time 32.14 sec, Train error 0.01148, Train accuracy 0.98852\n",
      "Epoch #13: Time 42.23 sec, Train error 0.01042, Train accuracy 0.98958\n",
      "Epoch #14: Time 31.41 sec, Train error 0.00970, Train accuracy 0.99030\n",
      "Epoch #15: Time 42.60 sec, Train error 0.00882, Train accuracy 0.99118\n",
      "Epoch #16: Time 30.04 sec, Train error 0.00788, Train accuracy 0.99212\n",
      "Epoch #17: Time 39.87 sec, Train error 0.00698, Train accuracy 0.99302\n",
      "Epoch #18: Time 35.02 sec, Train error 0.00633, Train accuracy 0.99367\n",
      "Epoch #19: Time 36.84 sec, Train error 0.00568, Train accuracy 0.99432\n",
      "Epoch #20: Time 35.74 sec, Train error 0.00513, Train accuracy 0.99487\n",
      "Total training time: 681.41 sec \n"
     ]
    }
   ],
   "source": [
    "from torch.autograd import Variable\n",
    "import time\n",
    "\n",
    "batch_size = 64\n",
    "n_epoch = 20\n",
    "lr = 0.1 \n",
    "\n",
    "n_elements = train_x.shape[0]\n",
    "n_batches = int(n_elements/batch_size)\n",
    "training_time = []\n",
    "\n",
    "loss_function = nn.CrossEntropyLoss() \n",
    "optimizer = torch.optim.SGD(torch_model.parameters(), lr = lr) \n",
    "\n",
    "print(\"PyTorch model training\")\n",
    "for epoch in range(n_epoch):\n",
    "    start_epoch = time.perf_counter()\n",
    "    first_batch_el = 0\n",
    "    batch_id = 0\n",
    "    while (batch_id < n_batches + 1):\n",
    "        if (first_batch_el + batch_size < n_elements):\n",
    "            last_batch_el = first_batch_el + batch_size\n",
    "        else:\n",
    "            last_batch_el = n_elements\n",
    "        x_batch = train_x[first_batch_el : last_batch_el]\n",
    "        y_batch = train_y[first_batch_el : last_batch_el]      \n",
    "        \n",
    "        x_variable = Variable(torch.tensor(x_batch))\n",
    "        y_variable = Variable(torch.tensor(y_batch))\n",
    "\n",
    "        outputs = torch_model(x_variable) \n",
    "        loss = loss_function(outputs, y_variable)\n",
    "        optimizer.zero_grad() \n",
    "        loss.backward() \n",
    "        optimizer.step()\n",
    "        \n",
    "        if (first_batch_el + batch_size <= n_elements):\n",
    "            first_batch_el += batch_size\n",
    "        else:\n",
    "            first_batch_el = last_batch_el + 1\n",
    "        batch_id+=1    \n",
    "    end_epoch = time.perf_counter()\n",
    "    training_time.append(end_epoch - start_epoch)\n",
    "    \n",
    "    accuracy = get_accuracy(torch_model(torch.tensor(train_x)).detach().numpy(), train_y)\n",
    "    print(f'Epoch #{epoch+1}: Time {training_time[epoch]:0.2f} sec, Train error {1-accuracy:0.5f}, Train accuracy {accuracy:0.5f}')\n",
    "\n",
    "print(f\"Total training time: {sum(training_time):0.2f} sec \")    \n",
    "        \n",
    "        "
   ]
  },
  {
   "cell_type": "markdown",
   "metadata": {},
   "source": [
    "Точность PyTorch модели на тестовых данных:"
   ]
  },
  {
   "cell_type": "code",
   "execution_count": 42,
   "metadata": {},
   "outputs": [
    {
     "name": "stdout",
     "output_type": "stream",
     "text": [
      "PyTorch model \n",
      "Test error: 0.01990 \n",
      "Test accuracy: 0.98010\n",
      "Test time: 0.08 sec\n"
     ]
    }
   ],
   "source": [
    "start_prediction = time.perf_counter()\n",
    "classification_result = torch_model(torch.tensor(test_x)).detach().numpy()\n",
    "end_prediction = time.perf_counter()\n",
    "accuracy = get_accuracy(classification_result, test_y)\n",
    "\n",
    "print(f'PyTorch model \\nTest error: {1-accuracy:0.5f} \\nTest accuracy: {accuracy:0.5f}\\nTest time: {end_prediction-start_prediction:0.2f} sec')"
   ]
  }
 ],
 "metadata": {
  "kernelspec": {
   "display_name": "backprop",
   "language": "python",
   "name": "python3"
  },
  "language_info": {
   "codemirror_mode": {
    "name": "ipython",
    "version": 3
   },
   "file_extension": ".py",
   "mimetype": "text/x-python",
   "name": "python",
   "nbconvert_exporter": "python",
   "pygments_lexer": "ipython3",
   "version": "3.11.6"
  }
 },
 "nbformat": 4,
 "nbformat_minor": 2
}
